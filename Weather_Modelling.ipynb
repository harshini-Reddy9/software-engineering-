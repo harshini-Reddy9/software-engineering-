{
  "nbformat": 4,
  "nbformat_minor": 0,
  "metadata": {
    "colab": {
      "provenance": [],
      "authorship_tag": "ABX9TyP82woXE2ngD0jjsnW7hNjk",
      "include_colab_link": true
    },
    "kernelspec": {
      "name": "python3",
      "display_name": "Python 3"
    },
    "language_info": {
      "name": "python"
    }
  },
  "cells": [
    {
      "cell_type": "markdown",
      "metadata": {
        "id": "view-in-github",
        "colab_type": "text"
      },
      "source": [
        "<a href=\"https://colab.research.google.com/github/harshini-Reddy9/software-engineering-/blob/main/Weather_Modelling.ipynb\" target=\"_parent\"><img src=\"https://colab.research.google.com/assets/colab-badge.svg\" alt=\"Open In Colab\"/></a>"
      ]
    },
    {
      "cell_type": "code",
      "execution_count": null,
      "metadata": {
        "id": "zfMmYDmSYQUM"
      },
      "outputs": [],
      "source": [
        "def temperature_modelling(a,b,c,time):\n",
        "    temperature = a*time**2+b*time+c\n",
        "    return temperature"
      ]
    },
    {
      "cell_type": "code",
      "source": [
        "# Hardcoded variables\n",
        "a,b,c=0.1,2,10\n",
        "time=5"
      ],
      "metadata": {
        "id": "VYwh_tGaYraA"
      },
      "execution_count": null,
      "outputs": []
    },
    {
      "cell_type": "code",
      "source": [
        "print(\"The predicted temperature at time\", time,\"hours:\",temperature_modelling(a,b,c,time))"
      ],
      "metadata": {
        "colab": {
          "base_uri": "https://localhost:8080/"
        },
        "id": "yZQ3vsq3ZZBS",
        "outputId": "5a789b80-3171-4cba-c5ed-c690938f11f6"
      },
      "execution_count": null,
      "outputs": [
        {
          "output_type": "stream",
          "name": "stdout",
          "text": [
            "The predicted temperature at time 5 hours: 22.5\n"
          ]
        }
      ]
    },
    {
      "cell_type": "code",
      "source": [
        "a=float(input(\"Enter the value of coefficient a:\"))\n",
        "b=float(input(\"Enter the value of coefficient b:\"))\n",
        "c=float(input(\"Enter the value of coefficient c:\"))"
      ],
      "metadata": {
        "colab": {
          "base_uri": "https://localhost:8080/"
        },
        "id": "xpMdGMi-Zw6S",
        "outputId": "30748a0e-fd1f-4805-eabd-b49d352aa9ed"
      },
      "execution_count": null,
      "outputs": [
        {
          "name": "stdout",
          "output_type": "stream",
          "text": [
            "Enter the value of coefficient a:2\n",
            "Enter the value of coefficient b:6\n",
            "Enter the value of coefficient c:-4\n"
          ]
        }
      ]
    },
    {
      "cell_type": "code",
      "source": [
        "time=float(input(\"Enter the value of time: \"))"
      ],
      "metadata": {
        "colab": {
          "base_uri": "https://localhost:8080/"
        },
        "id": "LroycI7OaXcZ",
        "outputId": "c3382c94-99f0-4966-eaf5-cb0a16682209"
      },
      "execution_count": null,
      "outputs": [
        {
          "name": "stdout",
          "output_type": "stream",
          "text": [
            "Enter the value of time: 7\n"
          ]
        }
      ]
    },
    {
      "cell_type": "code",
      "source": [
        "# Variables read from keyboard\n",
        "print(\"Hard coded variables for weather modelling\")\n",
        "print(\"The predicted temperature at time\",time,\"hours:\",temperature_modelling(a,b,c,time))"
      ],
      "metadata": {
        "colab": {
          "base_uri": "https://localhost:8080/"
        },
        "id": "h8X0vgicah7L",
        "outputId": "231dc248-8f8c-4626-914b-e99bda150bad"
      },
      "execution_count": null,
      "outputs": [
        {
          "output_type": "stream",
          "name": "stdout",
          "text": [
            "Hard coded variables for weather modelling\n",
            "The predicted temperature at time 7.0 hours: 136.0\n"
          ]
        }
      ]
    },
    {
      "cell_type": "code",
      "source": [
        "# Read coefficients from a file\n",
        "def read_from_file(filename):\n",
        "    with open(filename, 'r') as file:\n",
        "        lines = file.readlines()\n",
        "    coefficients=[tuple(map(float,line.strip().split(','))) for line in lines]\n",
        "    return coefficients"
      ],
      "metadata": {
        "id": "2oJSM1Ksbc6N"
      },
      "execution_count": null,
      "outputs": []
    },
    {
      "cell_type": "code",
      "source": [
        "# Solve for single set of inputs\n",
        "coefficients=read_from_file('/content/SE_INPUT1.txt')\n",
        "a,b,c,time=coefficients[0]\n",
        "temperature=temperature_modelling(a,b,c,time)\n",
        "print(\"Read from file variables for weather modelling\")\n",
        "print(\"Temperature from keyboard coefficients at time\", time,\"hours:\", temperature_modelling(a,b,c,time))"
      ],
      "metadata": {
        "id": "aLyn2R7aeU7g",
        "colab": {
          "base_uri": "https://localhost:8080/"
        },
        "outputId": "35bc3c1b-4b44-4994-be60-c1b8d397bfc0"
      },
      "execution_count": null,
      "outputs": [
        {
          "output_type": "stream",
          "name": "stdout",
          "text": [
            "Read from file variables for weather modelling\n",
            "Temperature from keyboard coefficients at time 5.0 hours: 2.0\n"
          ]
        }
      ]
    },
    {
      "cell_type": "code",
      "source": [
        "# Solve for all sets in the file\n",
        "for idx,coefficients in enumerate(coefficients):\n",
        "    a,b,c,time=coefficients\n",
        "    temperature=temperature_modelling(a,b,c,time)\n",
        "    print(\"Temperature from keyboard coefficients at time\", time,\"hours:\", temperature_modelling(a,b,c,time))"
      ],
      "metadata": {
        "colab": {
          "base_uri": "https://localhost:8080/"
        },
        "id": "0fDSPqubHJH6",
        "outputId": "3617f298-cf93-4c71-93dd-fca1609acfb8"
      },
      "execution_count": null,
      "outputs": [
        {
          "output_type": "stream",
          "name": "stdout",
          "text": [
            "Temperature from keyboard coefficients at time 5.0 hours: 2.0\n",
            "Temperature from keyboard coefficients at time 3.0 hours: 0.0\n",
            "Temperature from keyboard coefficients at time 2.5 hours: 16.5\n",
            "Temperature from keyboard coefficients at time -5.0 hours: 211.0\n"
          ]
        }
      ]
    }
  ]
}